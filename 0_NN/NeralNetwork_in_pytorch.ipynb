{
 "cells": [
  {
   "cell_type": "markdown",
   "metadata": {},
   "source": [
    "# 1.create a model"
   ]
  },
  {
   "cell_type": "code",
   "execution_count": 23,
   "metadata": {},
   "outputs": [],
   "source": [
    "import torch\n",
    "import torch.nn as nn\n",
    "import torch.nn.functional as F"
   ]
  },
  {
   "cell_type": "code",
   "execution_count": 24,
   "metadata": {},
   "outputs": [],
   "source": [
    "# create a model class that inherits nn.Module 这里是Module 不是model\n",
    "class Model(nn.Module):\n",
    "    #input layer (4 features of the flower) -->\n",
    "    #  Hidden layer1 (number of neurons) -->\n",
    "    #  H2(n) --> output (3 classed of iris flowers)\n",
    "    def __init__(self, in_features = 4, h1 = 8, h2 = 9, out_features = 3):\n",
    "        super().__init__() # instantiate out nn.Module 实例化\n",
    "        self.fc1 = nn.Linear(in_features= in_features, out_features= h1)\n",
    "        self.fc2 = nn.Linear(in_features= h1, out_features= h2)\n",
    "        self.out = nn.Linear(in_features= h2, out_features= out_features)\n",
    "    \n",
    "    # moves everything forward \n",
    "    def forward(self, x):\n",
    "        # rectified linear unit 修正线性单元 大于0则保留，小于0另其等于0\n",
    "        x = F.relu(self.fc1(x))\n",
    "        x = F.relu(self.fc2(x))\n",
    "        x = self.out(x)\n",
    "\n",
    "        return x\n",
    "    "
   ]
  },
  {
   "cell_type": "code",
   "execution_count": 25,
   "metadata": {},
   "outputs": [],
   "source": [
    "# before we turn it on we need to create a manual seed, because networks involve randomization every time.\n",
    "# say hey start here and then go randomization, then we'll get basically close to the same outputs\n",
    "\n",
    "# pick a manual seed for randomization\n",
    "torch.manual_seed(seed= 41)\n",
    "# create an instance of model\n",
    "model = Model()"
   ]
  },
  {
   "cell_type": "markdown",
   "metadata": {},
   "source": [
    "# 2.train a model"
   ]
  },
  {
   "cell_type": "code",
   "execution_count": 26,
   "metadata": {},
   "outputs": [],
   "source": [
    "import pandas as pd\n",
    "import matplotlib.pyplot as plt\n",
    "%matplotlib inline"
   ]
  },
  {
   "cell_type": "code",
   "execution_count": 27,
   "metadata": {},
   "outputs": [],
   "source": [
    "# url = 'https://gist.githubusercontent.com/curran/a08a1080b88344b0c8a7/raw/0e7a9b0a5d22642a06d3d5b9bcbad9890c8ee534/iris.csv'\n",
    "my_df = pd.read_csv('dataset/iris.csv')"
   ]
  },
  {
   "cell_type": "code",
   "execution_count": 28,
   "metadata": {},
   "outputs": [
    {
     "name": "stderr",
     "output_type": "stream",
     "text": [
      "/tmp/ipykernel_7909/405565173.py:4: FutureWarning: Downcasting behavior in `replace` is deprecated and will be removed in a future version. To retain the old behavior, explicitly call `result.infer_objects(copy=False)`. To opt-in to the future behavior, set `pd.set_option('future.no_silent_downcasting', True)`\n",
      "  my_df['species'] = my_df['species'].replace('virginica', 2.0)\n"
     ]
    },
    {
     "data": {
      "text/html": [
       "<div>\n",
       "<style scoped>\n",
       "    .dataframe tbody tr th:only-of-type {\n",
       "        vertical-align: middle;\n",
       "    }\n",
       "\n",
       "    .dataframe tbody tr th {\n",
       "        vertical-align: top;\n",
       "    }\n",
       "\n",
       "    .dataframe thead th {\n",
       "        text-align: right;\n",
       "    }\n",
       "</style>\n",
       "<table border=\"1\" class=\"dataframe\">\n",
       "  <thead>\n",
       "    <tr style=\"text-align: right;\">\n",
       "      <th></th>\n",
       "      <th>sepal_length</th>\n",
       "      <th>sepal_width</th>\n",
       "      <th>petal_length</th>\n",
       "      <th>petal_width</th>\n",
       "      <th>species</th>\n",
       "    </tr>\n",
       "  </thead>\n",
       "  <tbody>\n",
       "    <tr>\n",
       "      <th>0</th>\n",
       "      <td>5.1</td>\n",
       "      <td>3.5</td>\n",
       "      <td>1.4</td>\n",
       "      <td>0.2</td>\n",
       "      <td>0.0</td>\n",
       "    </tr>\n",
       "    <tr>\n",
       "      <th>1</th>\n",
       "      <td>4.9</td>\n",
       "      <td>3.0</td>\n",
       "      <td>1.4</td>\n",
       "      <td>0.2</td>\n",
       "      <td>0.0</td>\n",
       "    </tr>\n",
       "    <tr>\n",
       "      <th>2</th>\n",
       "      <td>4.7</td>\n",
       "      <td>3.2</td>\n",
       "      <td>1.3</td>\n",
       "      <td>0.2</td>\n",
       "      <td>0.0</td>\n",
       "    </tr>\n",
       "    <tr>\n",
       "      <th>3</th>\n",
       "      <td>4.6</td>\n",
       "      <td>3.1</td>\n",
       "      <td>1.5</td>\n",
       "      <td>0.2</td>\n",
       "      <td>0.0</td>\n",
       "    </tr>\n",
       "    <tr>\n",
       "      <th>4</th>\n",
       "      <td>5.0</td>\n",
       "      <td>3.6</td>\n",
       "      <td>1.4</td>\n",
       "      <td>0.2</td>\n",
       "      <td>0.0</td>\n",
       "    </tr>\n",
       "    <tr>\n",
       "      <th>...</th>\n",
       "      <td>...</td>\n",
       "      <td>...</td>\n",
       "      <td>...</td>\n",
       "      <td>...</td>\n",
       "      <td>...</td>\n",
       "    </tr>\n",
       "    <tr>\n",
       "      <th>145</th>\n",
       "      <td>6.7</td>\n",
       "      <td>3.0</td>\n",
       "      <td>5.2</td>\n",
       "      <td>2.3</td>\n",
       "      <td>2.0</td>\n",
       "    </tr>\n",
       "    <tr>\n",
       "      <th>146</th>\n",
       "      <td>6.3</td>\n",
       "      <td>2.5</td>\n",
       "      <td>5.0</td>\n",
       "      <td>1.9</td>\n",
       "      <td>2.0</td>\n",
       "    </tr>\n",
       "    <tr>\n",
       "      <th>147</th>\n",
       "      <td>6.5</td>\n",
       "      <td>3.0</td>\n",
       "      <td>5.2</td>\n",
       "      <td>2.0</td>\n",
       "      <td>2.0</td>\n",
       "    </tr>\n",
       "    <tr>\n",
       "      <th>148</th>\n",
       "      <td>6.2</td>\n",
       "      <td>3.4</td>\n",
       "      <td>5.4</td>\n",
       "      <td>2.3</td>\n",
       "      <td>2.0</td>\n",
       "    </tr>\n",
       "    <tr>\n",
       "      <th>149</th>\n",
       "      <td>5.9</td>\n",
       "      <td>3.0</td>\n",
       "      <td>5.1</td>\n",
       "      <td>1.8</td>\n",
       "      <td>2.0</td>\n",
       "    </tr>\n",
       "  </tbody>\n",
       "</table>\n",
       "<p>150 rows × 5 columns</p>\n",
       "</div>"
      ],
      "text/plain": [
       "     sepal_length  sepal_width  petal_length  petal_width  species\n",
       "0             5.1          3.5           1.4          0.2      0.0\n",
       "1             4.9          3.0           1.4          0.2      0.0\n",
       "2             4.7          3.2           1.3          0.2      0.0\n",
       "3             4.6          3.1           1.5          0.2      0.0\n",
       "4             5.0          3.6           1.4          0.2      0.0\n",
       "..            ...          ...           ...          ...      ...\n",
       "145           6.7          3.0           5.2          2.3      2.0\n",
       "146           6.3          2.5           5.0          1.9      2.0\n",
       "147           6.5          3.0           5.2          2.0      2.0\n",
       "148           6.2          3.4           5.4          2.3      2.0\n",
       "149           5.9          3.0           5.1          1.8      2.0\n",
       "\n",
       "[150 rows x 5 columns]"
      ]
     },
     "execution_count": 28,
     "metadata": {},
     "output_type": "execute_result"
    }
   ],
   "source": [
    "# change last column from strings to integers\n",
    "my_df['species'] = my_df['species'].replace('setosa', 0.0)\n",
    "my_df['species'] = my_df['species'].replace('versicolor', 1.0)\n",
    "my_df['species'] = my_df['species'].replace('virginica', 2.0)\n",
    "my_df\n",
    "\n",
    "# my_df.head()\n",
    "# my_df.tail()"
   ]
  },
  {
   "cell_type": "code",
   "execution_count": 29,
   "metadata": {},
   "outputs": [],
   "source": [
    "# train test split ，set X,Y    \n",
    "X = my_df.drop('species', axis = 1) # 删除指定列\n",
    "y = my_df['species']"
   ]
  },
  {
   "cell_type": "code",
   "execution_count": 30,
   "metadata": {},
   "outputs": [],
   "source": [
    "#Convert these to numpy arrays\n",
    "X = X.values\n",
    "y = y.values\n",
    "# X"
   ]
  },
  {
   "cell_type": "code",
   "execution_count": 31,
   "metadata": {},
   "outputs": [],
   "source": [
    "# train test split\n",
    "from sklearn.model_selection import train_test_split\n",
    "X_train, X_test, y_train, y_test = train_test_split(X, y, test_size= 0.2, random_state= 41)"
   ]
  },
  {
   "cell_type": "code",
   "execution_count": 32,
   "metadata": {},
   "outputs": [],
   "source": [
    "# convert X features to float tensors\n",
    "X_train = torch.FloatTensor(X_train)\n",
    "X_test = torch.FloatTensor(X_test)\n",
    "#convert y labels to long tensors\n",
    "y_train = torch.LongTensor(y_train)\n",
    "y_test = torch.LongTensor(y_test)"
   ]
  },
  {
   "cell_type": "code",
   "execution_count": 33,
   "metadata": {},
   "outputs": [],
   "source": [
    "# set the criterion of model to measure the error,how far off the predicitons are from the data\n",
    "criterion = nn.CrossEntropyLoss()\n",
    "# choose Adam optimizer, lr = learing rate (if error does not go down after a bunch of \n",
    "# iterations(epochs), lower our learning rate),学习率越低，学习所需时间越长\n",
    "optimizer = torch.optim.Adam(model.parameters(), lr= 0.01)\n",
    "# 传进去的参数包括fc1, fc2, out\n",
    "# model.parameters"
   ]
  },
  {
   "cell_type": "code",
   "execution_count": 34,
   "metadata": {},
   "outputs": [
    {
     "name": "stdout",
     "output_type": "stream",
     "text": [
      "Epoch: 0 and loss: 1.1225672960281372\n",
      "Epoch: 10 and loss: 1.0130739212036133\n",
      "Epoch: 20 and loss: 0.8195203542709351\n",
      "Epoch: 30 and loss: 0.5979762673377991\n",
      "Epoch: 40 and loss: 0.41400161385536194\n",
      "Epoch: 50 and loss: 0.2843181788921356\n",
      "Epoch: 60 and loss: 0.19448624551296234\n",
      "Epoch: 70 and loss: 0.1376158446073532\n",
      "Epoch: 80 and loss: 0.10318295657634735\n",
      "Epoch: 90 and loss: 0.08392063528299332\n"
     ]
    }
   ],
   "source": [
    "# train our model\n",
    "# epochs? (one run through all the training data in out network )\n",
    "epochs = 100\n",
    "losses = []\n",
    "for i in range(epochs):\n",
    "    # go forward and get a prediction\n",
    "    y_pred = model.forward(X_train) # get a predicted results\n",
    "\n",
    "    #measure the loss/error, gonna be high at first\n",
    "    loss = criterion(y_pred, y_train) # predicted values vs y_train\n",
    "\n",
    "    # keep track of our losses\n",
    "    #detach()不再跟踪计算图中的梯度信息，numpy(): 这个方法将PyTorch张量转换成NumPy数组。因为NumPy数组在Python科学计算中非常普遍，很多库和函数需要用到NumPy数组作为输入。\n",
    "    losses.append(loss.detach().numpy()) \n",
    "\n",
    "    #print every 10 epoches\n",
    "    if i % 10 == 0:\n",
    "        print(f'Epoch: {i} and loss: {loss}')\n",
    "    \n",
    "    # do some back propagation: take the error rate of forward propagation and feed it back\n",
    "    # thru the network to fine tune the weights\n",
    "    # optimizer.zero_grad() 清零梯度，为新的梯度计算做准备。\n",
    "    # loss.backward() 计算梯度，即对损失函数进行微分，获取参数的梯度。\n",
    "    # optimizer.step() 更新参数，根据梯度和学习率调整参数值以最小化损失函数。\n",
    "    optimizer.zero_grad()\n",
    "    loss.backward()\n",
    "    optimizer.step()\n"
   ]
  },
  {
   "cell_type": "code",
   "execution_count": 35,
   "metadata": {},
   "outputs": [
    {
     "data": {
      "text/plain": [
       "Text(0.5, 0, 'Epoch')"
      ]
     },
     "execution_count": 35,
     "metadata": {},
     "output_type": "execute_result"
    },
    {
     "data": {
      "image/png": "[encoded data removed]",
      "text/plain": [
       "<Figure size 640x480 with 1 Axes>"
      ]
     },
     "metadata": {},
     "output_type": "display_data"
    }
   ],
   "source": [
    "# graph it out\n",
    "plt.plot(range(epochs), losses)\n",
    "plt.ylabel(\"loss/error\")\n",
    "plt.xlabel(\"Epoch\")"
   ]
  },
  {
   "cell_type": "markdown",
   "metadata": {},
   "source": [
    "# 3.Evaluate Test Data Set On Network"
   ]
  },
  {
   "cell_type": "code",
   "execution_count": 36,
   "metadata": {},
   "outputs": [
    {
     "name": "stdout",
     "output_type": "stream",
     "text": [
      "tensor(0.0575)\n"
     ]
    }
   ],
   "source": [
    "# evaluate Model on test dataset(validate model on test set)\n",
    "with torch.no_grad(): #basically turn off back propogation\n",
    "    y_eval = model.forward(X_test) # X-test are features from our test set,y_eval will be predictions\n",
    "    loss = criterion(y_eval, y_test) #find the loss or error\n",
    "    print(loss)"
   ]
  },
  {
   "cell_type": "code",
   "execution_count": 37,
   "metadata": {},
   "outputs": [
    {
     "name": "stdout",
     "output_type": "stream",
     "text": [
      "1. tensor([-4.1716,  5.0314,  2.5291]) \t y_test:1 \t y_val: 1\n",
      "2. tensor([ 5.1330, -2.7781, -3.1771]) \t y_test:0 \t y_val: 0\n",
      "3. tensor([ 4.0230, -1.7534, -2.6876]) \t y_test:0 \t y_val: 0\n",
      "4. tensor([-4.6494,  5.5576,  2.7156]) \t y_test:1 \t y_val: 1\n",
      "5. tensor([-6.2048,  4.2263,  6.8880]) \t y_test:2 \t y_val: 2\n",
      "6. tensor([-7.5163,  5.6673,  7.4118]) \t y_test:2 \t y_val: 2\n",
      "7. tensor([ 3.5807, -1.3334, -2.5046]) \t y_test:0 \t y_val: 0\n",
      "8. tensor([ 4.5113, -2.2228, -2.8847]) \t y_test:0 \t y_val: 0\n",
      "9. tensor([-4.2756,  5.4891,  2.1708]) \t y_test:1 \t y_val: 1\n",
      "10. tensor([ 4.4995, -2.1908, -2.8975]) \t y_test:0 \t y_val: 0\n",
      "11. tensor([-4.7794,  5.8376,  2.5969]) \t y_test:1 \t y_val: 1\n",
      "12. tensor([-7.2882,  4.4892,  8.3679]) \t y_test:2 \t y_val: 2\n",
      "13. tensor([-2.9024,  4.6610,  0.8063]) \t y_test:1 \t y_val: 1\n",
      "14. tensor([-3.0202,  4.8000,  0.8698]) \t y_test:1 \t y_val: 1\n",
      "15. tensor([-6.6180,  4.7994,  6.8852]) \t y_test:2 \t y_val: 2\n",
      "16. tensor([-6.8650,  3.8245,  8.4278]) \t y_test:2 \t y_val: 2\n",
      "17. tensor([-4.4567,  4.8932,  3.1672]) \t y_test:1 \t y_val: 1\n",
      "18. tensor([-6.0071,  4.8364,  5.8129]) \t y_test:2 \t y_val: 2\n",
      "19. tensor([-3.2380,  4.9972,  0.9793]) \t y_test:1 \t y_val: 1\n",
      "20. tensor([ 5.0347, -2.6795, -3.1355]) \t y_test:0 \t y_val: 0\n",
      "21. tensor([ 4.0192, -1.7479, -2.6876]) \t y_test:0 \t y_val: 0\n",
      "22. tensor([-7.8153,  4.7176,  9.0087]) \t y_test:2 \t y_val: 2\n",
      "23. tensor([-5.5853,  4.8004,  5.1576]) \t y_test:2 \t y_val: 2\n",
      "24. tensor([ 4.5271, -2.2420, -2.8878]) \t y_test:0 \t y_val: 0\n",
      "25. tensor([ 4.6742, -2.3839, -2.9468]) \t y_test:0 \t y_val: 0\n",
      "26. tensor([-3.3793,  5.1364,  1.0582]) \t y_test:1 \t y_val: 1\n",
      "27. tensor([ 5.0775, -2.7105, -3.1615]) \t y_test:0 \t y_val: 0\n",
      "28. tensor([-8.0470,  4.3857,  9.7573]) \t y_test:2 \t y_val: 2\n",
      "29. tensor([ 4.7758, -2.4494, -3.0151]) \t y_test:0 \t y_val: 0\n",
      "30. tensor([ 4.6463, -2.3343, -2.9549]) \t y_test:0 \t y_val: 0\n",
      "we got 30 correct\n"
     ]
    }
   ],
   "source": [
    "corret = 0\n",
    "with torch.no_grad(): \n",
    "    for i, data in enumerate(X_test):\n",
    "        y_val = model.forward(data)\n",
    "\n",
    "        # if y_test[i] == 0:\n",
    "        #     x = 'setosa'\n",
    "        # elif y_test[i] == 1:\n",
    "        #     x = 'versicolor'\n",
    "        # else:\n",
    "        #     x = 'virginica'\n",
    "\n",
    "        \n",
    "        # will tell us what typ of flower class out network think it is\n",
    "        print(f'{i + 1}. {str(y_val)} \\t y_test:{y_test[i]} \\t y_val: { y_val.argmax().item()}')\n",
    "\n",
    "        #correct or not\n",
    "        if y_val.argmax().item() == y_test[i]:\n",
    "            corret += 1\n",
    "    \n",
    "    print(f'we got {corret} correct')"
   ]
  },
  {
   "cell_type": "markdown",
   "metadata": {},
   "source": [
    "## 4. Evaluate new data on the network"
   ]
  },
  {
   "cell_type": "code",
   "execution_count": 38,
   "metadata": {},
   "outputs": [],
   "source": [
    "new_iris = torch.tensor([4.7, 3.2, 1.3, 0.2])"
   ]
  },
  {
   "cell_type": "code",
   "execution_count": 40,
   "metadata": {},
   "outputs": [
    {
     "name": "stdout",
     "output_type": "stream",
     "text": [
      "tensor([ 4.6209, -2.3305, -2.9270])\n"
     ]
    }
   ],
   "source": [
    "with torch.no_grad():\n",
    "    # print(model.forward(new_iris))\n",
    "    print(model(new_iris))"
   ]
  },
  {
   "cell_type": "markdown",
   "metadata": {},
   "source": [
    "## 5.save and load out nerual network model for pytorch and python"
   ]
  },
  {
   "cell_type": "code",
   "execution_count": 41,
   "metadata": {},
   "outputs": [],
   "source": [
    "#save our NN model\n",
    "torch.save(model.state_dict(), 'my_iris_model.pt')"
   ]
  },
  {
   "cell_type": "code",
   "execution_count": 42,
   "metadata": {},
   "outputs": [
    {
     "data": {
      "text/plain": [
       "<All keys matched successfully>"
      ]
     },
     "execution_count": 42,
     "metadata": {},
     "output_type": "execute_result"
    }
   ],
   "source": [
    "# load the saved model\n",
    "new_model = Model()\n",
    "new_model.load_state_dict(torch.load('my_iris_model.pt'))"
   ]
  },
  {
   "cell_type": "code",
   "execution_count": 44,
   "metadata": {},
   "outputs": [
    {
     "data": {
      "text/plain": [
       "Model(\n",
       "  (fc1): Linear(in_features=4, out_features=8, bias=True)\n",
       "  (fc2): Linear(in_features=8, out_features=9, bias=True)\n",
       "  (out): Linear(in_features=9, out_features=3, bias=True)\n",
       ")"
      ]
     },
     "execution_count": 44,
     "metadata": {},
     "output_type": "execute_result"
    }
   ],
   "source": [
    "# make sure it loaded correctly\n",
    "new_model.eval() #Set the module in evaluation mode"
   ]
  }
 ],
 "metadata": {
  "kernelspec": {
   "display_name": "2ddev",
   "language": "python",
   "name": "python3"
  },
  "language_info": {
   "codemirror_mode": {
    "name": "ipython",
    "version": 3
   },
   "file_extension": ".py",
   "mimetype": "text/x-python",
   "name": "python",
   "nbconvert_exporter": "python",
   "pygments_lexer": "ipython3",
   "version": "3.12.2"
  }
 },
 "nbformat": 4,
 "nbformat_minor": 2
}
